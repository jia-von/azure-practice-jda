{
 "cells": [
  {
   "cell_type": "code",
   "execution_count": 1,
   "id": "acab564c",
   "metadata": {},
   "outputs": [],
   "source": [
    "# Creating List in Python\n",
    "# Using pythong best practices style guide for commenting: https://peps.python.org/pep-0008/\n",
    "# Create an empty list named list 1\n",
    "# An object that allows you to change its values without changing its identity is a mutable object.\n",
    "\n",
    "l = [1, 2, 3, 4]\n",
    "\n",
    "l2 = [\"this is a string\", 12]\n",
    "\n",
    "list1 = list()"
   ]
  },
  {
   "cell_type": "code",
   "execution_count": 2,
   "id": "2ea4c38f",
   "metadata": {},
   "outputs": [],
   "source": [
    "# Create a list with elements 22, 31, 61\n",
    "\n",
    "list2 = list([22, 31, 61]) "
   ]
  },
  {
   "cell_type": "code",
   "execution_count": 3,
   "id": "1928331a",
   "metadata": {},
   "outputs": [],
   "source": [
    "# Create a list with strings\n",
    "\n",
    "list3 = list([\"tom\", \"jerry\", \"spyke\"]) "
   ]
  },
  {
   "cell_type": "code",
   "execution_count": 4,
   "id": "d8f7b570",
   "metadata": {},
   "outputs": [],
   "source": [
    "# Create a list with characters p, y, t, h, o, n\n",
    "\n",
    "list5 = list(\"python\") "
   ]
  },
  {
   "cell_type": "code",
   "execution_count": 5,
   "id": "7b965821",
   "metadata": {},
   "outputs": [
    {
     "name": "stdout",
     "output_type": "stream",
     "text": [
      "1\n",
      "2\n",
      "3\n",
      "4\n"
     ]
    }
   ],
   "source": [
    "# Common List Operations\n",
    "# For loop: https://www.w3schools.com/python/python_lists_loop.asp\n",
    "# x in s : True if element x is in sequence s, False otherwise - June 16, 2023 JDA\n",
    "\n",
    "for x in l:\n",
    "    print(x)"
   ]
  },
  {
   "cell_type": "code",
   "execution_count": 6,
   "id": "4558ed13",
   "metadata": {},
   "outputs": [
    {
     "name": "stdout",
     "output_type": "stream",
     "text": [
      "Result of concatenate of list2 and list3: [22, 31, 61, 'tom', 'jerry', 'spyke']\n",
      "Result of n copies [1, 2, 3, 4, 1, 2, 3, 4]\n",
      "Result of print 2nd element of list l: 3\n",
      "The length of list l: 4\n",
      "The smallest element in list l: 1\n",
      "The Largest element in list l: 4\n",
      "The sum of all numbers in list l 10\n"
     ]
    }
   ],
   "source": [
    "# s1 + s2  : Concatenates two sequences s1 and s2 using the \"+\" operator\n",
    "\n",
    "concatenate_list = list2 + list3\n",
    "print(\"Result of concatenate of list2 and list3:\",concatenate_list)\n",
    "\n",
    "# n copies of sequence s concatenated\n",
    "\n",
    "print(\"Result of n copies\",2*l)\n",
    "\n",
    "# ith element in sequence s.\n",
    "\n",
    "print(\"Result of print 2nd element of list l:\",l[2])\n",
    "\n",
    "# Length of sequences, i.e. the number of elements in s\n",
    "\n",
    "print(\"The length of list l:\",len(l))\n",
    "\n",
    "# Smallest element in sequence s.\n",
    "\n",
    "print(\"The smallest element in list l:\",min(l))\n",
    "\n",
    "# Largest element in sequence s.\n",
    "\n",
    "print(\"The Largest element in list l:\", max(l))\n",
    "\n",
    "# Sum of all numbers in sequence s.\n",
    "print(\"The sum of all numbers in list l\", sum(l))\n"
   ]
  }
 ],
 "metadata": {
  "kernelspec": {
   "display_name": "Python 3 (ipykernel)",
   "language": "python",
   "name": "python3"
  },
  "language_info": {
   "codemirror_mode": {
    "name": "ipython",
    "version": 3
   },
   "file_extension": ".py",
   "mimetype": "text/x-python",
   "name": "python",
   "nbconvert_exporter": "python",
   "pygments_lexer": "ipython3",
   "version": "3.10.6"
  }
 },
 "nbformat": 4,
 "nbformat_minor": 5
}
