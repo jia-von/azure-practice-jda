{
 "cells": [
  {
   "cell_type": "code",
   "execution_count": 1,
   "id": "d6167894",
   "metadata": {},
   "outputs": [
    {
     "name": "stdout",
     "output_type": "stream",
     "text": [
      "[11, 33, 44, 66, 788]\n"
     ]
    }
   ],
   "source": [
    "# List slicing\n",
    "\n",
    "list = [11,33,44,66,788,1]\n",
    "\n",
    "# this will return list starting from index 0 to index 4\n",
    "\n",
    "print(list[0:5])"
   ]
  },
  {
   "cell_type": "code",
   "execution_count": null,
   "id": "9403b99a",
   "metadata": {},
   "outputs": [],
   "source": [
    "# The + operator joins the two lists."
   ]
  }
 ],
 "metadata": {
  "kernelspec": {
   "display_name": "Python 3 (ipykernel)",
   "language": "python",
   "name": "python3"
  },
  "language_info": {
   "codemirror_mode": {
    "name": "ipython",
    "version": 3
   },
   "file_extension": ".py",
   "mimetype": "text/x-python",
   "name": "python",
   "nbconvert_exporter": "python",
   "pygments_lexer": "ipython3",
   "version": "3.10.6"
  }
 },
 "nbformat": 4,
 "nbformat_minor": 5
}
