{
 "cells": [
  {
   "cell_type": "code",
   "execution_count": 1,
   "id": "b9f05302",
   "metadata": {},
   "outputs": [],
   "source": [
    "# Python Dictionaries\n",
    "# Dictionary is a python data type that is used to store key-value pairs. It enables you to quickly retrieve, add, remove, modify, values using a key. Dictionary is very similar to what we call associative array or hash on other languages\n",
    "# Dictionaries are mutable\n",
    "\n",
    "# Creating a dictionary\n",
    "# Dictionaries can be created using a pair of curly braces ({}). \n",
    "# Each item in the dictionary consists of a key, followed by a colon, which is followed by a value. \n",
    "# And each item is separated using commas (,).\n",
    "\n",
    "# create an empty dictionary\n",
    "dict_emp = {} "
   ]
  },
  {
   "cell_type": "code",
   "execution_count": 17,
   "id": "bf680d1e",
   "metadata": {},
   "outputs": [
    {
     "name": "stdout",
     "output_type": "stream",
     "text": [
      "The value for key 'tom' is: 111-222-333\n",
      "Key not found. The dictionary is: {'tom': '111-222-333', 'jerry': '666-33-111'} Error message: <built-in method with_traceback of KeyError object at 0x7fa9765549a0>\n"
     ]
    }
   ],
   "source": [
    "# Retrieving, modifying and adding elements in the dictionary\n",
    "# Use the syntax 'dictionary_name['key']'\n",
    "\n",
    "# June 16, 2023: Python code indentation and layout: https://peps.python.org/pep-0008/#indentation\n",
    "# Create a dictionary, friends\n",
    "\n",
    "friends = {\n",
    "    'tom' : '111-222-333', \n",
    "    'jerry' : '666-33-111'\n",
    "}\n",
    "\n",
    "# Print the value of using key of \"tom\"\n",
    "\n",
    "print(\"The value for key 'tom' is:\",friends['tom'])\n",
    "\n",
    "# use del dictionary_name['key'] to remove a key\n",
    "# use exception handling for Key Error\n",
    "\n",
    "try:\n",
    "    del friends['bob']\n",
    "    print(\"The dictionaries are:\", friends)\n",
    "    \n",
    "# exception handling using traceback\n",
    "\n",
    "except Exception as e:\n",
    "    print(\"Key not found. The dictionary is:\",friends,\"Error message:\",e.with_traceback)"
   ]
  },
  {
   "cell_type": "code",
   "execution_count": 22,
   "id": "be8dc287",
   "metadata": {},
   "outputs": [
    {
     "name": "stdout",
     "output_type": "stream",
     "text": [
      "tom : 111-222-333\n",
      "jerry : 666-33-111\n",
      "The length of the dictionary: 2\n",
      "True/False is 'tom' found in dictionary, friends?: True\n",
      "True/False is 'tom' not found in dictionary, friends?: False\n"
     ]
    }
   ],
   "source": [
    "# Looping items in the dictionary \n",
    "# Create a dictionary, friends\n",
    "\n",
    "friends = {\n",
    "    'tom' : '111-222-333', \n",
    "    'jerry' : '666-33-111'\n",
    "}\n",
    "\n",
    "# Looping items\n",
    "\n",
    "for key in friends:\n",
    "    print(key, \":\", friends[key])\n",
    "    \n",
    "# Find the length of the dictionary \n",
    "# use the len() function to find the length of the dictionary.\n",
    "\n",
    "print(\"The length of the dictionary:\",len(friends))\n",
    "\n",
    "# 'in' operator to check whether key exists in the dictionary.\n",
    "\n",
    "print(\"True/False is 'tom' found in dictionary, friends?:\",'tom' in friends)\n",
    "\n",
    "# not in operators to check whether key exists in the dictionary.\n",
    "\n",
    "print(\"True/False is 'tom' not found in dictionary, friends?:\",'tom' not in friends)"
   ]
  },
  {
   "cell_type": "code",
   "execution_count": 1,
   "id": "6fb1e6b3",
   "metadata": {},
   "outputs": [
    {
     "name": "stdout",
     "output_type": "stream",
     "text": [
      "Is d1 equal to d2?: True\n",
      "Is d1 not equal to d2?: False\n"
     ]
    }
   ],
   "source": [
    "# Equality Tests in dictionary using '==' and '!=' operators\n",
    "# Assign value to dictionaries\n",
    "\n",
    "d1 = {\"mike\":41,\"bob\":3}\n",
    "d2 = {\"bob\":3,\"mike\":41}\n",
    "\n",
    "# Check equality\n",
    "\n",
    "print(\"Is d1 equal to d2?:\",d1 == d2)\n",
    "print(\"Is d1 not equal to d2?:\",d1 != d2)"
   ]
  }
 ],
 "metadata": {
  "kernelspec": {
   "display_name": "Python 3 (ipykernel)",
   "language": "python",
   "name": "python3"
  },
  "language_info": {
   "codemirror_mode": {
    "name": "ipython",
    "version": 3
   },
   "file_extension": ".py",
   "mimetype": "text/x-python",
   "name": "python",
   "nbconvert_exporter": "python",
   "pygments_lexer": "ipython3",
   "version": "3.10.6"
  }
 },
 "nbformat": 4,
 "nbformat_minor": 5
}
