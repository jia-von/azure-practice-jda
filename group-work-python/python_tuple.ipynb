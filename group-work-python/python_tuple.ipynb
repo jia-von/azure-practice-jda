{
 "cells": [
  {
   "cell_type": "code",
   "execution_count": 2,
   "id": "69d8cbc3",
   "metadata": {},
   "outputs": [],
   "source": [
    "# In Python Tuples are very similar to lists, but once a tuple is created, you cannot add, delete, replace, or reorder elements.\n",
    "# Tuples are immutable.\n",
    "\n",
    "# creates an empty tuple with no data \n",
    "\n",
    "t1 = ()\n",
    "\n",
    "# creates a non-empty tuple\n",
    "\n",
    "t2 = (11,22,33)\n",
    "\n",
    "# tuple from array\n",
    "\n",
    "t3 = tuple([1,2,3,4,4]) \n",
    "\n",
    "# tuple from string\n",
    "\n",
    "t4 = tuple(\"abc\") "
   ]
  },
  {
   "cell_type": "code",
   "execution_count": 14,
   "id": "28b9a6d2",
   "metadata": {},
   "outputs": [
    {
     "name": "stdout",
     "output_type": "stream",
     "text": [
      "The minimum value found in tuple t1: 1\n",
      "The maximum value found in tuple t1: 81\n",
      "The the sum value of t1: 161\n",
      "The the sum value of tuple array t3: 14\n",
      "Print the tuple t4: ('a', 'b', 'c')\n"
     ]
    }
   ],
   "source": [
    "# Tuple functions\n",
    "# assign tuple t1 with value\n",
    "\n",
    "t1 = (1, 12, 55, 12, 81)\n",
    "\n",
    "# min() functions\n",
    "\n",
    "print(\"The minimum value found in tuple t1:\", min(t1))\n",
    "\n",
    "# max() functions\n",
    "\n",
    "print(\"The maximum value found in tuple t1:\", max(t1))\n",
    "\n",
    "# sum() functions\n",
    "\n",
    "print(\"The the sum value of t1:\", sum(t1))\n",
    "\n",
    "# sum() functions\n",
    "\n",
    "print(\"The the sum value of tuple array t3:\", sum(t3))\n",
    "\n",
    "# tuple from string validation\n",
    "print(\"Print the tuple t4:\", t4)"
   ]
  },
  {
   "cell_type": "code",
   "execution_count": 15,
   "id": "b5a0fce2",
   "metadata": {},
   "outputs": [
    {
     "name": "stdout",
     "output_type": "stream",
     "text": [
      "The result of tuple sliced: (11, 22)\n"
     ]
    }
   ],
   "source": [
    "# Slicing tuple\n",
    "# Slicing operators works same in tuples as in list and string.\n",
    "# Assign tuple with data\n",
    "\n",
    "t = (11,22,33,44,55)\n",
    "\n",
    "# Slice tuple with t[0:2]\n",
    "\n",
    "print(\"The result of tuple sliced:\",t[0:2])"
   ]
  },
  {
   "cell_type": "code",
   "execution_count": 5,
   "id": "e5c2ca81",
   "metadata": {},
   "outputs": [
    {
     "name": "stdout",
     "output_type": "stream",
     "text": [
      "True/False if 22 is found in tuple, t: True\n",
      "True/False if 22 not found in tuple, t: False\n"
     ]
    }
   ],
   "source": [
    "# in and not in operator\n",
    "# You can use in and not in operators to check existence of item in tuples as follows.\n",
    "# Assign tuple with data\n",
    "\n",
    "t = (11,22,33,44,55)\n",
    "\n",
    "# Using \"in\" operator\n",
    "\n",
    "print(\"True/False if 22 is found in tuple, t:\", 22 in t)\n",
    "\n",
    "# Using \"not in\" operator\n",
    "\n",
    "print(\"True/False if 22 not found in tuple, t:\", 22 not in t)"
   ]
  }
 ],
 "metadata": {
  "kernelspec": {
   "display_name": "Python 3 (ipykernel)",
   "language": "python",
   "name": "python3"
  },
  "language_info": {
   "codemirror_mode": {
    "name": "ipython",
    "version": 3
   },
   "file_extension": ".py",
   "mimetype": "text/x-python",
   "name": "python",
   "nbconvert_exporter": "python",
   "pygments_lexer": "ipython3",
   "version": "3.10.6"
  }
 },
 "nbformat": 4,
 "nbformat_minor": 5
}
