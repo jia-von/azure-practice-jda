{
 "cells": [
  {
   "cell_type": "code",
   "execution_count": 3,
   "id": "e6c7c787",
   "metadata": {},
   "outputs": [
    {
     "name": "stdout",
     "output_type": "stream",
     "text": [
      "These are the set values:\n",
      "{'Jake', 'Eric', 'John'}\n",
      "{'Jill', 'John'}\n",
      "The members that attended both events are: {'John'}\n",
      "The members that attended both events are: {'John'}\n"
     ]
    }
   ],
   "source": [
    "# Python sets\n",
    "# Sets are lists with no duplicate entries.\n",
    "# Sets are a powerful tool in Python since they have the ability to calculate differences and intersections between other sets. \n",
    "# For example, say you have a list of participants in events A and B: \n",
    "\n",
    "a = set([\"Jake\", \"John\", \"Eric\"])\n",
    "b = set([\"John\", \"Jill\"])\n",
    "print(\"These are the set values:\")\n",
    "print(a)\n",
    "print(b)\n",
    "\n",
    "# To find out which members attended both events, you may use the \"intersection\" method:\n",
    "\n",
    "print(\"The members that attended both events are:\",a.intersection(b))\n",
    "print(\"The members that attended both events are:\",b.intersection(a))"
   ]
  },
  {
   "cell_type": "code",
   "execution_count": 4,
   "id": "77214fc6",
   "metadata": {},
   "outputs": [
    {
     "name": "stdout",
     "output_type": "stream",
     "text": [
      "The members that attended only one of the events are: {'Jill', 'Jake', 'Eric'}\n",
      "The memberts that attended only one of the events are: {'Jill', 'Jake', 'Eric'}\n"
     ]
    }
   ],
   "source": [
    "# For example, say you have a list of participants in events A and B: \n",
    "\n",
    "a = set([\"Jake\", \"John\", \"Eric\"])\n",
    "b = set([\"John\", \"Jill\"])\n",
    "\n",
    "# To find out which members attended only one of the events, use the \"symmetric_difference\" method:\n",
    "\n",
    "print(\"The members that attended only one of the events are:\",a.symmetric_difference(b))\n",
    "print(\"The members that attended only one of the events are:\",b.symmetric_difference(a))"
   ]
  },
  {
   "cell_type": "code",
   "execution_count": 5,
   "id": "5175c69d",
   "metadata": {},
   "outputs": [
    {
     "name": "stdout",
     "output_type": "stream",
     "text": [
      "The members that attended only one event and not the other are: {'Jake', 'Eric'}\n",
      "The members that attended only one event and not the other are: {'Jill'}\n"
     ]
    }
   ],
   "source": [
    "# For example, say you have a list of participants in events A and B: \n",
    "\n",
    "a = set([\"Jake\", \"John\", \"Eric\"])\n",
    "b = set([\"John\", \"Jill\"])\n",
    "\n",
    "# To find out which members attended only one event and not the other, use the \"difference\" method:\n",
    "\n",
    "print(\"The members that attended only one event and not the other are:\",a.difference(b))\n",
    "print(\"The members that attended only one event and not the other are:\",b.difference(a))"
   ]
  },
  {
   "cell_type": "code",
   "execution_count": 6,
   "id": "488e5126",
   "metadata": {},
   "outputs": [
    {
     "name": "stdout",
     "output_type": "stream",
     "text": [
      "The list to all the participants: {'Jill', 'Eric', 'John', 'Jake'}\n"
     ]
    }
   ],
   "source": [
    "# For example, say you have a list of participants in events A and B: \n",
    "\n",
    "a = set([\"Jake\", \"John\", \"Eric\"])\n",
    "b = set([\"John\", \"Jill\"])\n",
    "\n",
    "# To receive a list of all participants, use the \"union\" method:\n",
    "\n",
    "print(\"The list to all the participants:\",a.union(b))"
   ]
  }
 ],
 "metadata": {
  "kernelspec": {
   "display_name": "Python 3 (ipykernel)",
   "language": "python",
   "name": "python3"
  },
  "language_info": {
   "codemirror_mode": {
    "name": "ipython",
    "version": 3
   },
   "file_extension": ".py",
   "mimetype": "text/x-python",
   "name": "python",
   "nbconvert_exporter": "python",
   "pygments_lexer": "ipython3",
   "version": "3.10.6"
  }
 },
 "nbformat": 4,
 "nbformat_minor": 5
}
