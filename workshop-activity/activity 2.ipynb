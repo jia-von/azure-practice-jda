{
 "cells": [
  {
   "cell_type": "markdown",
   "id": "9fd14392",
   "metadata": {},
   "source": [
    "# Import the `auto-mpg dataset`\n",
    "- Download the `auto-mpg dataset`"
   ]
  },
  {
   "cell_type": "code",
   "execution_count": 34,
   "id": "c961a913",
   "metadata": {},
   "outputs": [
    {
     "data": {
      "text/html": [
       "<div>\n",
       "<style scoped>\n",
       "    .dataframe tbody tr th:only-of-type {\n",
       "        vertical-align: middle;\n",
       "    }\n",
       "\n",
       "    .dataframe tbody tr th {\n",
       "        vertical-align: top;\n",
       "    }\n",
       "\n",
       "    .dataframe thead th {\n",
       "        text-align: right;\n",
       "    }\n",
       "</style>\n",
       "<table border=\"1\" class=\"dataframe\">\n",
       "  <thead>\n",
       "    <tr style=\"text-align: right;\">\n",
       "      <th></th>\n",
       "      <th>mpg</th>\n",
       "      <th>cylinders</th>\n",
       "      <th>displacement</th>\n",
       "      <th>horsepower</th>\n",
       "      <th>weight</th>\n",
       "      <th>acceleration</th>\n",
       "      <th>model year</th>\n",
       "      <th>origin</th>\n",
       "      <th>car name</th>\n",
       "      <th>CAR Number</th>\n",
       "    </tr>\n",
       "  </thead>\n",
       "  <tbody>\n",
       "    <tr>\n",
       "      <th>0</th>\n",
       "      <td>18</td>\n",
       "      <td>8</td>\n",
       "      <td>307.0</td>\n",
       "      <td>130</td>\n",
       "      <td>3504</td>\n",
       "      <td>12.0</td>\n",
       "      <td>70.0</td>\n",
       "      <td>1</td>\n",
       "      <td>chevrolet chevelle malibu</td>\n",
       "      <td>L6V 043</td>\n",
       "    </tr>\n",
       "    <tr>\n",
       "      <th>1</th>\n",
       "      <td>15</td>\n",
       "      <td>8</td>\n",
       "      <td>350.0</td>\n",
       "      <td>165</td>\n",
       "      <td>3693</td>\n",
       "      <td>11.5</td>\n",
       "      <td>70.0</td>\n",
       "      <td>1</td>\n",
       "      <td>buick skylark 320</td>\n",
       "      <td>RTY079</td>\n",
       "    </tr>\n",
       "    <tr>\n",
       "      <th>2</th>\n",
       "      <td>18</td>\n",
       "      <td>8</td>\n",
       "      <td>318.0</td>\n",
       "      <td>150</td>\n",
       "      <td>3436</td>\n",
       "      <td>11.0</td>\n",
       "      <td>70.0</td>\n",
       "      <td>1</td>\n",
       "      <td>plymouth satellite</td>\n",
       "      <td>MTP600</td>\n",
       "    </tr>\n",
       "    <tr>\n",
       "      <th>3</th>\n",
       "      <td>16</td>\n",
       "      <td>8</td>\n",
       "      <td>304.0</td>\n",
       "      <td>150</td>\n",
       "      <td>3433</td>\n",
       "      <td>12.0</td>\n",
       "      <td>70.0</td>\n",
       "      <td>1</td>\n",
       "      <td>amc rebel sst</td>\n",
       "      <td>MNJ000</td>\n",
       "    </tr>\n",
       "    <tr>\n",
       "      <th>4</th>\n",
       "      <td>17</td>\n",
       "      <td>8</td>\n",
       "      <td>302.0</td>\n",
       "      <td>140</td>\n",
       "      <td>3449</td>\n",
       "      <td>10.5</td>\n",
       "      <td>70.0</td>\n",
       "      <td>1</td>\n",
       "      <td>ford torino</td>\n",
       "      <td>JEETMEET</td>\n",
       "    </tr>\n",
       "  </tbody>\n",
       "</table>\n",
       "</div>"
      ],
      "text/plain": [
       "   mpg  cylinders  displacement  horsepower  weight  acceleration  model year  \\\n",
       "0   18          8         307.0         130    3504          12.0        70.0   \n",
       "1   15          8         350.0         165    3693          11.5        70.0   \n",
       "2   18          8         318.0         150    3436          11.0        70.0   \n",
       "3   16          8         304.0         150    3433          12.0        70.0   \n",
       "4   17          8         302.0         140    3449          10.5        70.0   \n",
       "\n",
       "   origin                   car name CAR Number  \n",
       "0       1  chevrolet chevelle malibu    L6V 043  \n",
       "1       1          buick skylark 320     RTY079  \n",
       "2       1         plymouth satellite     MTP600  \n",
       "3       1              amc rebel sst     MNJ000  \n",
       "4       1                ford torino   JEETMEET  "
      ]
     },
     "execution_count": 34,
     "metadata": {},
     "output_type": "execute_result"
    }
   ],
   "source": [
    "import pandas as pd\n",
    "\n",
    "# convert to dataframe object df\n",
    "df = pd.read_csv('auto-mpg.csv')\n",
    "df.head()"
   ]
  },
  {
   "cell_type": "markdown",
   "id": "afbb7244",
   "metadata": {},
   "source": [
    "# Drop column `Origin` from the dataset\n",
    "```python\n",
    "DataFrame.drop(labels=None, *, axis=0, index=None, columns=None, level=None, inplace=False, errors='raise')\n",
    "```\n",
    "## axis {0 or ‘index’, 1 or ‘columns’}, default 0\n",
    "- Whether to drop labels from the index (0 or ‘index’) or columns (1 or ‘columns’).\n",
    "### Reference\n",
    "- https://pandas.pydata.org/pandas-docs/stable/reference/api/pandas.DataFrame.drop.html"
   ]
  },
  {
   "cell_type": "code",
   "execution_count": 35,
   "id": "e99c6822",
   "metadata": {},
   "outputs": [
    {
     "data": {
      "text/html": [
       "<div>\n",
       "<style scoped>\n",
       "    .dataframe tbody tr th:only-of-type {\n",
       "        vertical-align: middle;\n",
       "    }\n",
       "\n",
       "    .dataframe tbody tr th {\n",
       "        vertical-align: top;\n",
       "    }\n",
       "\n",
       "    .dataframe thead th {\n",
       "        text-align: right;\n",
       "    }\n",
       "</style>\n",
       "<table border=\"1\" class=\"dataframe\">\n",
       "  <thead>\n",
       "    <tr style=\"text-align: right;\">\n",
       "      <th></th>\n",
       "      <th>mpg</th>\n",
       "      <th>cylinders</th>\n",
       "      <th>displacement</th>\n",
       "      <th>horsepower</th>\n",
       "      <th>weight</th>\n",
       "      <th>acceleration</th>\n",
       "      <th>model year</th>\n",
       "      <th>car name</th>\n",
       "      <th>CAR Number</th>\n",
       "    </tr>\n",
       "  </thead>\n",
       "  <tbody>\n",
       "    <tr>\n",
       "      <th>0</th>\n",
       "      <td>18</td>\n",
       "      <td>8</td>\n",
       "      <td>307.0</td>\n",
       "      <td>130</td>\n",
       "      <td>3504</td>\n",
       "      <td>12.0</td>\n",
       "      <td>70.0</td>\n",
       "      <td>chevrolet chevelle malibu</td>\n",
       "      <td>L6V 043</td>\n",
       "    </tr>\n",
       "    <tr>\n",
       "      <th>1</th>\n",
       "      <td>15</td>\n",
       "      <td>8</td>\n",
       "      <td>350.0</td>\n",
       "      <td>165</td>\n",
       "      <td>3693</td>\n",
       "      <td>11.5</td>\n",
       "      <td>70.0</td>\n",
       "      <td>buick skylark 320</td>\n",
       "      <td>RTY079</td>\n",
       "    </tr>\n",
       "    <tr>\n",
       "      <th>2</th>\n",
       "      <td>18</td>\n",
       "      <td>8</td>\n",
       "      <td>318.0</td>\n",
       "      <td>150</td>\n",
       "      <td>3436</td>\n",
       "      <td>11.0</td>\n",
       "      <td>70.0</td>\n",
       "      <td>plymouth satellite</td>\n",
       "      <td>MTP600</td>\n",
       "    </tr>\n",
       "    <tr>\n",
       "      <th>3</th>\n",
       "      <td>16</td>\n",
       "      <td>8</td>\n",
       "      <td>304.0</td>\n",
       "      <td>150</td>\n",
       "      <td>3433</td>\n",
       "      <td>12.0</td>\n",
       "      <td>70.0</td>\n",
       "      <td>amc rebel sst</td>\n",
       "      <td>MNJ000</td>\n",
       "    </tr>\n",
       "    <tr>\n",
       "      <th>4</th>\n",
       "      <td>17</td>\n",
       "      <td>8</td>\n",
       "      <td>302.0</td>\n",
       "      <td>140</td>\n",
       "      <td>3449</td>\n",
       "      <td>10.5</td>\n",
       "      <td>70.0</td>\n",
       "      <td>ford torino</td>\n",
       "      <td>JEETMEET</td>\n",
       "    </tr>\n",
       "  </tbody>\n",
       "</table>\n",
       "</div>"
      ],
      "text/plain": [
       "   mpg  cylinders  displacement  horsepower  weight  acceleration  model year  \\\n",
       "0   18          8         307.0         130    3504          12.0        70.0   \n",
       "1   15          8         350.0         165    3693          11.5        70.0   \n",
       "2   18          8         318.0         150    3436          11.0        70.0   \n",
       "3   16          8         304.0         150    3433          12.0        70.0   \n",
       "4   17          8         302.0         140    3449          10.5        70.0   \n",
       "\n",
       "                    car name CAR Number  \n",
       "0  chevrolet chevelle malibu    L6V 043  \n",
       "1          buick skylark 320     RTY079  \n",
       "2         plymouth satellite     MTP600  \n",
       "3              amc rebel sst     MNJ000  \n",
       "4                ford torino   JEETMEET  "
      ]
     },
     "execution_count": 35,
     "metadata": {},
     "output_type": "execute_result"
    }
   ],
   "source": [
    "df = df.drop('origin',axis=1)\n",
    "df.head()"
   ]
  },
  {
   "cell_type": "markdown",
   "id": "5a84094a",
   "metadata": {},
   "source": [
    "# Check data type whether it's appropriate and then transform data"
   ]
  },
  {
   "cell_type": "code",
   "execution_count": 58,
   "id": "8ab1beb2",
   "metadata": {},
   "outputs": [
    {
     "name": "stdout",
     "output_type": "stream",
     "text": [
      "<class 'pandas.core.frame.DataFrame'>\n",
      "RangeIndex: 98 entries, 0 to 97\n",
      "Data columns (total 9 columns):\n",
      " #   Column        Non-Null Count  Dtype  \n",
      "---  ------        --------------  -----  \n",
      " 0   mpg           98 non-null     int64  \n",
      " 1   cylinders     98 non-null     int64  \n",
      " 2   displacement  98 non-null     float64\n",
      " 3   horsepower    98 non-null     int64  \n",
      " 4   weight        98 non-null     int64  \n",
      " 5   acceleration  96 non-null     float64\n",
      " 6   model year    96 non-null     float64\n",
      " 7   car name      98 non-null     object \n",
      " 8   CAR Number    91 non-null     object \n",
      "dtypes: float64(3), int64(4), object(2)\n",
      "memory usage: 7.0+ KB\n"
     ]
    }
   ],
   "source": [
    "# check datatypes\n",
    "# df.info()\n",
    "\n",
    "# noted datatypes for model year is float64 and change it to int64 because year doesn't have decimal\n",
    "df['model year'] = df['model year'].astype('int',errors='ignore')\n",
    "df.info()"
   ]
  },
  {
   "cell_type": "markdown",
   "id": "e7904bc8",
   "metadata": {},
   "source": [
    "# Find out all the missing values in the dataset and replace it with its most appropriate replacement. \n",
    "Finding out missing values: We can use `.sum()` method after applying `.isnull()` this will return sum of missing values within each columns in the dataframe\n",
    "Note: `isna()` is the updated function\n",
    "```python\n",
    "import pandas as pd\n",
    "df = pd.read_csv('IMDB-Movie-Data.csv')\n",
    "df.isnull().sum()\n",
    "```"
   ]
  },
  {
   "cell_type": "code",
   "execution_count": 62,
   "id": "a78ce9b4",
   "metadata": {},
   "outputs": [
    {
     "data": {
      "text/plain": [
       "mpg             0\n",
       "cylinders       0\n",
       "displacement    0\n",
       "horsepower      0\n",
       "weight          0\n",
       "acceleration    2\n",
       "model year      2\n",
       "car name        0\n",
       "CAR Number      7\n",
       "dtype: int64"
      ]
     },
     "execution_count": 62,
     "metadata": {},
     "output_type": "execute_result"
    }
   ],
   "source": [
    "# find the sum value of null found in the dataset\n",
    "df.isna().sum()"
   ]
  },
  {
   "cell_type": "markdown",
   "id": "5f8409e6",
   "metadata": {},
   "source": [
    "# remove null values and replace with most appropriate replacement\n",
    "- References: https://sparkbyexamples.com/pandas/pandas-get-column-average-mean/\n",
    "- References: https://www.tutorialspoint.com/how-to-display-most-frequent-value-in-a-pandas-series\n",
    "- Since car number are unique ID therefore I will leave it as is"
   ]
  },
  {
   "cell_type": "code",
   "execution_count": 66,
   "id": "fb8dd4d0",
   "metadata": {},
   "outputs": [
    {
     "data": {
      "text/plain": [
       "mpg             0\n",
       "cylinders       0\n",
       "displacement    0\n",
       "horsepower      0\n",
       "weight          0\n",
       "acceleration    0\n",
       "model year      0\n",
       "car name        0\n",
       "CAR Number      7\n",
       "dtype: int64"
      ]
     },
     "execution_count": 66,
     "metadata": {},
     "output_type": "execute_result"
    }
   ],
   "source": [
    "# Mean value for each column for acceleration\n",
    "mean_acceleration = round(df['acceleration'].mean(),1)\n",
    "\n",
    "# Use mode for the highest frequency the year the car was made\n",
    "mode_year = df['model year'].mode()[0]\n",
    "\n",
    "# Fillna() on multiple columns with different values\n",
    "df =  df.fillna(value={'acceleration':mean_acceleration,'model year':mode_year})\n",
    "df.isna().sum()"
   ]
  },
  {
   "cell_type": "code",
   "execution_count": null,
   "id": "e72a0b3b",
   "metadata": {},
   "outputs": [],
   "source": []
  }
 ],
 "metadata": {
  "kernelspec": {
   "display_name": "Python 3 (ipykernel)",
   "language": "python",
   "name": "python3"
  },
  "language_info": {
   "codemirror_mode": {
    "name": "ipython",
    "version": 3
   },
   "file_extension": ".py",
   "mimetype": "text/x-python",
   "name": "python",
   "nbconvert_exporter": "python",
   "pygments_lexer": "ipython3",
   "version": "3.10.6"
  }
 },
 "nbformat": 4,
 "nbformat_minor": 5
}
