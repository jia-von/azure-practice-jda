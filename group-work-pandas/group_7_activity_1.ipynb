{
 "cells": [
  {
   "cell_type": "markdown",
   "id": "9b6270c1",
   "metadata": {},
   "source": [
    "# Consider the following dataframe and do as directed:\n",
    "```python\n",
    "import pandas as pd\n",
    "d={‘Mouse’:[150,200,300,400],\n",
    "   ‘Keyboard’:[180,200,190,300],\n",
    "   ‘Scanner’:[200,280,330,450]}\n",
    "df=pd.DataFrame(d.index=[‘Jan’,’Feb’,’March’,’April’])\n",
    "```\n",
    "Note errors as shown below:\n",
    "- `d.index` produces `SyntaxError` \n",
    "- Had to change `': (U+2018)` to appropriate `'`"
   ]
  },
  {
   "cell_type": "code",
   "execution_count": 13,
   "id": "1000904f",
   "metadata": {},
   "outputs": [
    {
     "ename": "SyntaxError",
     "evalue": "expression cannot contain assignment, perhaps you meant \"==\"? (2725820480.py, line 6)",
     "output_type": "error",
     "traceback": [
      "\u001b[0;36m  Cell \u001b[0;32mIn[13], line 6\u001b[0;36m\u001b[0m\n\u001b[0;31m    df=pd.DataFrame(d.index=['Jan','Feb','March','April'])\u001b[0m\n\u001b[0m                    ^\u001b[0m\n\u001b[0;31mSyntaxError\u001b[0m\u001b[0;31m:\u001b[0m expression cannot contain assignment, perhaps you meant \"==\"?\n"
     ]
    }
   ],
   "source": [
    "import pandas as pd\n",
    "d = {'Mouse':[150,200,300,400],\n",
    "   'Keyboard':[180,200,190,300],\n",
    "   'Scanner':[200,280,330,450]}\n",
    "\n",
    "df=pd.DataFrame(d.index=['Jan','Feb','March','April'])"
   ]
  },
  {
   "cell_type": "markdown",
   "id": "3d0705f3",
   "metadata": {},
   "source": [
    "# Correct DataFrame\n",
    "- References: https://www.w3schools.com/python/pandas/pandas_dataframes.asp\n",
    "- Change `d.index=['Jan','Feb','March','April']` to `d, index=['Jan','Feb','March','April']`"
   ]
  },
  {
   "cell_type": "code",
   "execution_count": 27,
   "id": "13649804",
   "metadata": {},
   "outputs": [],
   "source": [
    "import pandas as pd\n",
    "d = {'Mouse':[150,200,300,400],\n",
    "   'Keyboard':[180,200,190,300],\n",
    "   'Scanner':[200,280,330,450]}\n",
    "\n",
    "df=pd.DataFrame(d, index=['Jan','Feb','March','April'])"
   ]
  },
  {
   "cell_type": "markdown",
   "id": "3d6e81c7",
   "metadata": {},
   "source": [
    "# Write code to access data of `Mouse` and `Scanner` columns."
   ]
  },
  {
   "cell_type": "code",
   "execution_count": 25,
   "id": "e2856c53",
   "metadata": {},
   "outputs": [
    {
     "name": "stdout",
     "output_type": "stream",
     "text": [
      "       Mouse  Scanner\n",
      "Jan      150      200\n",
      "Feb      200      280\n",
      "March    300      330\n",
      "April    400      450\n"
     ]
    }
   ],
   "source": [
    "print(df[['Mouse','Scanner']])"
   ]
  },
  {
   "cell_type": "markdown",
   "id": "1f57fe62",
   "metadata": {},
   "source": [
    "# Write code to access data of the `Keyboard` column using dot notation and column name.\n",
    "- References: https://www.dataschool.io/pandas-dot-notation-vs-brackets/"
   ]
  },
  {
   "cell_type": "code",
   "execution_count": 26,
   "id": "7f0215c4",
   "metadata": {},
   "outputs": [
    {
     "name": "stdout",
     "output_type": "stream",
     "text": [
      "Jan      180\n",
      "Feb      200\n",
      "March    190\n",
      "April    300\n",
      "Name: Keyboard, dtype: int64\n"
     ]
    }
   ],
   "source": [
    "print(df.Keyboard)"
   ]
  },
  {
   "cell_type": "markdown",
   "id": "d40d2cb9",
   "metadata": {},
   "source": [
    "# Write code to access data of `Scanners` using `loc[]`\n",
    "- References: https://www.geeksforgeeks.org/how-to-select-multiple-columns-in-a-pandas-dataframe/"
   ]
  },
  {
   "cell_type": "code",
   "execution_count": 43,
   "id": "af7dc9ce",
   "metadata": {},
   "outputs": [
    {
     "data": {
      "text/plain": [
       "Jan      200\n",
       "Feb      280\n",
       "March    330\n",
       "April    450\n",
       "Name: Scanner, dtype: int64"
      ]
     },
     "execution_count": 43,
     "metadata": {},
     "output_type": "execute_result"
    }
   ],
   "source": [
    "df.loc[:,'Scanner']"
   ]
  },
  {
   "cell_type": "markdown",
   "id": "314e53aa",
   "metadata": {},
   "source": [
    "# Write code to access data of all columns where `Mouse` data is more than 200.\n",
    "- References: https://www.geeksforgeeks.org/selecting-rows-in-pandas-dataframe-based-on-conditions/"
   ]
  },
  {
   "cell_type": "code",
   "execution_count": 46,
   "id": "e1bd8357",
   "metadata": {},
   "outputs": [
    {
     "name": "stdout",
     "output_type": "stream",
     "text": [
      "       Mouse  Keyboard  Scanner\n",
      "March    300       190      330\n",
      "April    400       300      450\n"
     ]
    }
   ],
   "source": [
    "mouse_data = df['Mouse'] > 200\n",
    "\n",
    "print(df[mouse_data])"
   ]
  },
  {
   "cell_type": "markdown",
   "id": "c25caa7e",
   "metadata": {},
   "source": [
    "# Write code to access columns using 0 and 2."
   ]
  },
  {
   "cell_type": "code",
   "execution_count": 49,
   "id": "ea1654d4",
   "metadata": {},
   "outputs": [
    {
     "name": "stdout",
     "output_type": "stream",
     "text": [
      "       Mouse  Scanner\n",
      "Jan      150      200\n",
      "Feb      200      280\n",
      "March    300      330\n",
      "April    400      450\n"
     ]
    }
   ],
   "source": [
    "print(df.iloc[:,[0,2]])"
   ]
  },
  {
   "cell_type": "markdown",
   "id": "0d374057",
   "metadata": {},
   "source": [
    "# Write code to access data of rows of `jan` and `march` for `scanner` and `keyboard`"
   ]
  },
  {
   "cell_type": "code",
   "execution_count": 51,
   "id": "43864a70",
   "metadata": {},
   "outputs": [
    {
     "name": "stdout",
     "output_type": "stream",
     "text": [
      "       Keyboard  Scanner\n",
      "Jan         180      200\n",
      "March       190      330\n"
     ]
    }
   ],
   "source": [
    "months = ['Jan','March']\n",
    "products = ['Keyboard','Scanner']\n",
    "\n",
    "print(df.loc[months,products])"
   ]
  }
 ],
 "metadata": {
  "kernelspec": {
   "display_name": "Python 3 (ipykernel)",
   "language": "python",
   "name": "python3"
  },
  "language_info": {
   "codemirror_mode": {
    "name": "ipython",
    "version": 3
   },
   "file_extension": ".py",
   "mimetype": "text/x-python",
   "name": "python",
   "nbconvert_exporter": "python",
   "pygments_lexer": "ipython3",
   "version": "3.10.6"
  }
 },
 "nbformat": 4,
 "nbformat_minor": 5
}
