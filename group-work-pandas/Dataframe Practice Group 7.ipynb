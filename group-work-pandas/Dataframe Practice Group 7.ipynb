{
 "cells": [
  {
   "attachments": {},
   "cell_type": "markdown",
   "id": "ce87542c",
   "metadata": {},
   "source": [
    "# Import the CSV in a dataframe\n",
    "- Clean empty cells\n",
    "- Remove white space\n",
    "- All done in Excel"
   ]
  },
  {
   "cell_type": "code",
   "execution_count": 28,
   "id": "49620519",
   "metadata": {},
   "outputs": [
    {
     "name": "stdout",
     "output_type": "stream",
     "text": [
      "     LatD  LatM  LatS NS  LonD  LonM  LonS EW             City State\n",
      "0      41     5    59  N    80    39     0  W       Youngstown    OH\n",
      "1      42    52    48  N    97    23    23  W          Yankton    SD\n",
      "2      46    35    59  N   120    30    36  W           Yakima    WA\n",
      "3      42    16    12  N    71    48     0  W        Worcester    MA\n",
      "4      43    37    48  N    89    46    11  W  Wisconsin Dells    WI\n",
      "..    ...   ...   ... ..   ...   ...   ... ..              ...   ...\n",
      "123    39    31    12  N   119    48    35  W             Reno    NV\n",
      "124    50    25    11  N   104    39     0  W           Regina    SA\n",
      "125    40    10    48  N   122    14    23  W        Red Bluff    CA\n",
      "126    40    19    48  N    75    55    48  W          Reading    PA\n",
      "127    41     9    35  N    81    14    23  W          Ravenna    OH\n",
      "\n",
      "[128 rows x 10 columns]\n"
     ]
    }
   ],
   "source": [
    "import pandas as pd\n",
    "\n",
    "df = pd.read_csv('cities.csv')\n",
    "\n",
    "print(df)"
   ]
  },
  {
   "attachments": {},
   "cell_type": "markdown",
   "id": "e5e71166",
   "metadata": {},
   "source": [
    "# Add a column to the dataframe\n",
    "- Get last column to insert Zip code at the last column\n",
    "- Perform insert, to insert column to dataframe"
   ]
  },
  {
   "cell_type": "code",
   "execution_count": 36,
   "id": "1a4861ec",
   "metadata": {},
   "outputs": [
    {
     "name": "stdout",
     "output_type": "stream",
     "text": [
      "     LatD  LatM  LatS NS  LonD  LonM  LonS EW             City State Zip\n",
      "0      41     5    59  N    80    39     0  W       Youngstown    OH    \n",
      "1      42    52    48  N    97    23    23  W          Yankton    SD    \n",
      "2      46    35    59  N   120    30    36  W           Yakima    WA    \n",
      "3      42    16    12  N    71    48     0  W        Worcester    MA    \n",
      "4      43    37    48  N    89    46    11  W  Wisconsin Dells    WI    \n",
      "..    ...   ...   ... ..   ...   ...   ... ..              ...   ...  ..\n",
      "123    39    31    12  N   119    48    35  W             Reno    NV    \n",
      "124    50    25    11  N   104    39     0  W           Regina    SA    \n",
      "125    40    10    48  N   122    14    23  W        Red Bluff    CA    \n",
      "126    40    19    48  N    75    55    48  W          Reading    PA    \n",
      "127    41     9    35  N    81    14    23  W          Ravenna    OH    \n",
      "\n",
      "[128 rows x 11 columns]\n"
     ]
    }
   ],
   "source": [
    "last_col = len(df.columns)\n",
    "df.insert(last_col,\"Zip\",\"\")\n",
    "print(df)"
   ]
  },
  {
   "attachments": {},
   "cell_type": "markdown",
   "id": "ce65fe8c",
   "metadata": {},
   "source": [
    "# Perform describe and info on dataframe"
   ]
  },
  {
   "cell_type": "code",
   "execution_count": 46,
   "id": "fa6b8ca7",
   "metadata": {},
   "outputs": [
    {
     "name": "stdout",
     "output_type": "stream",
     "text": [
      "Describe function for DataFrame: \n",
      "\n",
      "              LatD        LatM        LatS        LonD        LonM        LonS\n",
      "count  128.000000  128.000000  128.000000  128.000000  128.000000  128.000000\n",
      "mean    38.820312   30.765625   27.492188   93.250000   27.742188   26.960938\n",
      "std      5.200596   16.426158   18.977814   15.466499   16.927937   18.727807\n",
      "min     26.000000    1.000000    0.000000   71.000000    0.000000    0.000000\n",
      "25%     35.000000   16.000000   11.000000   80.000000   14.000000   11.000000\n",
      "50%     39.000000   31.000000   24.000000   89.500000   26.500000   23.500000\n",
      "75%     42.250000   45.000000   47.000000  103.250000   40.250000   47.000000\n",
      "max     50.000000   59.000000   59.000000  123.000000   58.000000   59.000000\n",
      "\n",
      "\n",
      "Info function for DataFrame: \n",
      "\n",
      "\n",
      "<class 'pandas.core.frame.DataFrame'>\n",
      "RangeIndex: 128 entries, 0 to 127\n",
      "Data columns (total 11 columns):\n",
      " #   Column  Non-Null Count  Dtype \n",
      "---  ------  --------------  ----- \n",
      " 0   LatD    128 non-null    int64 \n",
      " 1   LatM    128 non-null    int64 \n",
      " 2   LatS    128 non-null    int64 \n",
      " 3   NS      128 non-null    object\n",
      " 4   LonD    128 non-null    int64 \n",
      " 5   LonM    128 non-null    int64 \n",
      " 6   LonS    128 non-null    int64 \n",
      " 7   EW      128 non-null    object\n",
      " 8   City    128 non-null    object\n",
      " 9   State   128 non-null    object\n",
      " 10  Zip     128 non-null    object\n",
      "dtypes: int64(6), object(5)\n",
      "memory usage: 11.1+ KB\n",
      "None\n"
     ]
    }
   ],
   "source": [
    "print(\"Describe function for DataFrame: \\n\\n\",df.describe())\n",
    "print(\"\\n\\nInfo function for DataFrame: \\n\\n\")\n",
    "print(df.info())"
   ]
  },
  {
   "attachments": {},
   "cell_type": "markdown",
   "id": "77d39035",
   "metadata": {},
   "source": [
    "# Export and save this data as cities1.csv"
   ]
  },
  {
   "cell_type": "code",
   "execution_count": 49,
   "id": "e479b359",
   "metadata": {},
   "outputs": [],
   "source": [
    "df.to_csv(\"cities1.csv\", sep=',', index=False, encoding='utf-8')"
   ]
  }
 ],
 "metadata": {
  "kernelspec": {
   "display_name": "Python 3 (ipykernel)",
   "language": "python",
   "name": "python3"
  },
  "language_info": {
   "codemirror_mode": {
    "name": "ipython",
    "version": 3
   },
   "file_extension": ".py",
   "mimetype": "text/x-python",
   "name": "python",
   "nbconvert_exporter": "python",
   "pygments_lexer": "ipython3",
   "version": "3.10.6"
  }
 },
 "nbformat": 4,
 "nbformat_minor": 5
}
