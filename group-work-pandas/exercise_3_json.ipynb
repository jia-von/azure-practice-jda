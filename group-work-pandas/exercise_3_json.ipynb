{
 "cells": [
  {
   "cell_type": "markdown",
   "id": "5e9e2022",
   "metadata": {},
   "source": [
    "# Exercise 3: JSON exercise\n",
    "1. Download `Jay.json` in C7W1 Activity folder\n",
    "2. Import the `JSON` in DataFrame"
   ]
  },
  {
   "cell_type": "code",
   "execution_count": 1,
   "id": "a804d089",
   "metadata": {},
   "outputs": [
    {
     "name": "stdout",
     "output_type": "stream",
     "text": [
      "     Duration  Pulse  Maxpulse  Calories\n",
      "0          60    110       130     409.1\n",
      "1          60    117       145     479.0\n",
      "2          60    103       135     340.0\n",
      "3          45    109       175     282.4\n",
      "4          45    117       148     406.0\n",
      "..        ...    ...       ...       ...\n",
      "164        60    105       140     290.8\n",
      "165        60    110       145     300.4\n",
      "166        60    115       145     310.2\n",
      "167        75    120       150     320.4\n",
      "168        75    125       150     330.4\n",
      "\n",
      "[169 rows x 4 columns]\n"
     ]
    }
   ],
   "source": [
    "import pandas as pd\n",
    "\n",
    "df = pd.read_json(\"Jay.json\")\n",
    "print(df)"
   ]
  },
  {
   "cell_type": "markdown",
   "id": "bbe7ff87",
   "metadata": {},
   "source": [
    "# Clean the Data\n",
    "1. Remove empty row"
   ]
  },
  {
   "cell_type": "code",
   "execution_count": 8,
   "id": "5a75c187",
   "metadata": {},
   "outputs": [],
   "source": [
    "new_df = df.dropna()"
   ]
  },
  {
   "cell_type": "markdown",
   "id": "0b00a6f4",
   "metadata": {},
   "source": [
    "# Add a column to the dataframe\n",
    "1. Calculate length of column to insert new column as the last index"
   ]
  },
  {
   "cell_type": "code",
   "execution_count": 9,
   "id": "e289768c",
   "metadata": {},
   "outputs": [
    {
     "name": "stdout",
     "output_type": "stream",
     "text": [
      "     Duration  Pulse  Maxpulse  Calories Exercise\n",
      "0          60    110       130     409.1         \n",
      "1          60    117       145     479.0         \n",
      "2          60    103       135     340.0         \n",
      "3          45    109       175     282.4         \n",
      "4          45    117       148     406.0         \n",
      "..        ...    ...       ...       ...      ...\n",
      "164        60    105       140     290.8         \n",
      "165        60    110       145     300.4         \n",
      "166        60    115       145     310.2         \n",
      "167        75    120       150     320.4         \n",
      "168        75    125       150     330.4         \n",
      "\n",
      "[164 rows x 5 columns]\n"
     ]
    }
   ],
   "source": [
    "len_col = len(new_df.columns)\n",
    "new_df.insert(len_col,\"Exercise\",\"\")\n",
    "print(new_df)"
   ]
  },
  {
   "cell_type": "markdown",
   "id": "35c5213e",
   "metadata": {},
   "source": [
    "# Perform describe on DataFrame"
   ]
  },
  {
   "cell_type": "code",
   "execution_count": 11,
   "id": "e43018b5",
   "metadata": {},
   "outputs": [
    {
     "data": {
      "text/html": [
       "<div>\n",
       "<style scoped>\n",
       "    .dataframe tbody tr th:only-of-type {\n",
       "        vertical-align: middle;\n",
       "    }\n",
       "\n",
       "    .dataframe tbody tr th {\n",
       "        vertical-align: top;\n",
       "    }\n",
       "\n",
       "    .dataframe thead th {\n",
       "        text-align: right;\n",
       "    }\n",
       "</style>\n",
       "<table border=\"1\" class=\"dataframe\">\n",
       "  <thead>\n",
       "    <tr style=\"text-align: right;\">\n",
       "      <th></th>\n",
       "      <th>Duration</th>\n",
       "      <th>Pulse</th>\n",
       "      <th>Maxpulse</th>\n",
       "      <th>Calories</th>\n",
       "    </tr>\n",
       "  </thead>\n",
       "  <tbody>\n",
       "    <tr>\n",
       "      <th>count</th>\n",
       "      <td>164.000000</td>\n",
       "      <td>164.000000</td>\n",
       "      <td>164.00000</td>\n",
       "      <td>164.000000</td>\n",
       "    </tr>\n",
       "    <tr>\n",
       "      <th>mean</th>\n",
       "      <td>64.146341</td>\n",
       "      <td>107.676829</td>\n",
       "      <td>134.27439</td>\n",
       "      <td>375.800000</td>\n",
       "    </tr>\n",
       "    <tr>\n",
       "      <th>std</th>\n",
       "      <td>42.888820</td>\n",
       "      <td>14.637516</td>\n",
       "      <td>16.58306</td>\n",
       "      <td>266.377134</td>\n",
       "    </tr>\n",
       "    <tr>\n",
       "      <th>min</th>\n",
       "      <td>15.000000</td>\n",
       "      <td>80.000000</td>\n",
       "      <td>100.00000</td>\n",
       "      <td>50.300000</td>\n",
       "    </tr>\n",
       "    <tr>\n",
       "      <th>25%</th>\n",
       "      <td>45.000000</td>\n",
       "      <td>100.000000</td>\n",
       "      <td>124.00000</td>\n",
       "      <td>250.925000</td>\n",
       "    </tr>\n",
       "    <tr>\n",
       "      <th>50%</th>\n",
       "      <td>60.000000</td>\n",
       "      <td>105.500000</td>\n",
       "      <td>131.00000</td>\n",
       "      <td>318.600000</td>\n",
       "    </tr>\n",
       "    <tr>\n",
       "      <th>75%</th>\n",
       "      <td>60.000000</td>\n",
       "      <td>111.000000</td>\n",
       "      <td>143.00000</td>\n",
       "      <td>387.600000</td>\n",
       "    </tr>\n",
       "    <tr>\n",
       "      <th>max</th>\n",
       "      <td>300.000000</td>\n",
       "      <td>159.000000</td>\n",
       "      <td>184.00000</td>\n",
       "      <td>1860.400000</td>\n",
       "    </tr>\n",
       "  </tbody>\n",
       "</table>\n",
       "</div>"
      ],
      "text/plain": [
       "         Duration       Pulse   Maxpulse     Calories\n",
       "count  164.000000  164.000000  164.00000   164.000000\n",
       "mean    64.146341  107.676829  134.27439   375.800000\n",
       "std     42.888820   14.637516   16.58306   266.377134\n",
       "min     15.000000   80.000000  100.00000    50.300000\n",
       "25%     45.000000  100.000000  124.00000   250.925000\n",
       "50%     60.000000  105.500000  131.00000   318.600000\n",
       "75%     60.000000  111.000000  143.00000   387.600000\n",
       "max    300.000000  159.000000  184.00000  1860.400000"
      ]
     },
     "execution_count": 11,
     "metadata": {},
     "output_type": "execute_result"
    }
   ],
   "source": [
    "new_df.describe()"
   ]
  },
  {
   "cell_type": "markdown",
   "id": "1af7034d",
   "metadata": {},
   "source": [
    "# Perform info on DataFrame"
   ]
  },
  {
   "cell_type": "code",
   "execution_count": 13,
   "id": "9bd14ce0",
   "metadata": {},
   "outputs": [
    {
     "name": "stdout",
     "output_type": "stream",
     "text": [
      "<class 'pandas.core.frame.DataFrame'>\n",
      "Index: 164 entries, 0 to 168\n",
      "Data columns (total 5 columns):\n",
      " #   Column    Non-Null Count  Dtype  \n",
      "---  ------    --------------  -----  \n",
      " 0   Duration  164 non-null    int64  \n",
      " 1   Pulse     164 non-null    int64  \n",
      " 2   Maxpulse  164 non-null    int64  \n",
      " 3   Calories  164 non-null    float64\n",
      " 4   Exercise  164 non-null    object \n",
      "dtypes: float64(1), int64(3), object(1)\n",
      "memory usage: 7.7+ KB\n"
     ]
    }
   ],
   "source": [
    "new_df.info()"
   ]
  },
  {
   "cell_type": "markdown",
   "id": "15a3a2d8",
   "metadata": {},
   "source": [
    "# Export and save this data as `Jay1.json`"
   ]
  },
  {
   "cell_type": "code",
   "execution_count": 15,
   "id": "5e6d9486",
   "metadata": {},
   "outputs": [],
   "source": [
    "new_df.to_json(\"Jay1.json\")"
   ]
  }
 ],
 "metadata": {
  "kernelspec": {
   "display_name": "Python 3 (ipykernel)",
   "language": "python",
   "name": "python3"
  },
  "language_info": {
   "codemirror_mode": {
    "name": "ipython",
    "version": 3
   },
   "file_extension": ".py",
   "mimetype": "text/x-python",
   "name": "python",
   "nbconvert_exporter": "python",
   "pygments_lexer": "ipython3",
   "version": "3.10.6"
  }
 },
 "nbformat": 4,
 "nbformat_minor": 5
}
