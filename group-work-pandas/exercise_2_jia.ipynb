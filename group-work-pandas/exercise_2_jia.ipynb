{
 "cells": [
  {
   "cell_type": "markdown",
   "id": "51df76e9",
   "metadata": {},
   "source": [
    "# Exercise 2 \n",
    "1. Download `CarSalesByModelStart.xlsx` in C7W1 Activity folder\n",
    "2. Import `xlsx` in a dataframe"
   ]
  },
  {
   "cell_type": "code",
   "execution_count": 3,
   "id": "032558ab",
   "metadata": {},
   "outputs": [
    {
     "name": "stdout",
     "output_type": "stream",
     "text": [
      "      Year     Month                Date      Model  Dealer ID  Quantity Sold  \\\n",
      "0     2018   January 2018-01-01 23:00:00   Beaufort       1222             10   \n",
      "1     2018   January 2018-01-01 23:00:00     Salish       1222             13   \n",
      "2     2018   January 2018-01-01 23:00:00   Labrador       1222             16   \n",
      "3     2018   January 2018-01-01 23:00:00  Champlain       1222              3   \n",
      "4     2018   January 2018-01-01 23:00:00     Hudson       1222             22   \n",
      "...    ...       ...                 ...        ...        ...            ...   \n",
      "1195  2019  December 2019-12-01 23:00:00   Beaufort       1288             12   \n",
      "1196  2019  December 2019-12-01 23:00:00     Salish       1288             14   \n",
      "1197  2019  December 2019-12-01 23:00:00   Labrador       1288             18   \n",
      "1198  2019  December 2019-12-01 23:00:00  Champlain       1288              4   \n",
      "1199  2019  December 2019-12-01 23:00:00     Hudson       1288             25   \n",
      "\n",
      "       Profit  \n",
      "0     15000.0  \n",
      "1     39650.0  \n",
      "2     12800.0  \n",
      "3      6900.0  \n",
      "4     11000.0  \n",
      "...       ...  \n",
      "1195  18000.0  \n",
      "1196  42700.0  \n",
      "1197  14400.0  \n",
      "1198   9200.0  \n",
      "1199  12500.0  \n",
      "\n",
      "[1200 rows x 7 columns]\n"
     ]
    }
   ],
   "source": [
    "import pandas as pd\n",
    "\n",
    "df = pd.read_excel('CarSalesByModelStart.xlsx')\n",
    "\n",
    "print(df)"
   ]
  },
  {
   "cell_type": "markdown",
   "id": "806528b2",
   "metadata": {},
   "source": [
    "# Add a column to the dataframe\n",
    "1. Find length of column\n",
    "2. Add column as the last index"
   ]
  },
  {
   "cell_type": "code",
   "execution_count": 5,
   "id": "d5c14eab",
   "metadata": {},
   "outputs": [
    {
     "name": "stdout",
     "output_type": "stream",
     "text": [
      "Column 'Maker' added as the last index of the column:\n",
      "\n",
      "       Year     Month                Date      Model  Dealer ID  Quantity Sold  \\\n",
      "0     2018   January 2018-01-01 23:00:00   Beaufort       1222             10   \n",
      "1     2018   January 2018-01-01 23:00:00     Salish       1222             13   \n",
      "2     2018   January 2018-01-01 23:00:00   Labrador       1222             16   \n",
      "3     2018   January 2018-01-01 23:00:00  Champlain       1222              3   \n",
      "4     2018   January 2018-01-01 23:00:00     Hudson       1222             22   \n",
      "...    ...       ...                 ...        ...        ...            ...   \n",
      "1195  2019  December 2019-12-01 23:00:00   Beaufort       1288             12   \n",
      "1196  2019  December 2019-12-01 23:00:00     Salish       1288             14   \n",
      "1197  2019  December 2019-12-01 23:00:00   Labrador       1288             18   \n",
      "1198  2019  December 2019-12-01 23:00:00  Champlain       1288              4   \n",
      "1199  2019  December 2019-12-01 23:00:00     Hudson       1288             25   \n",
      "\n",
      "       Profit Maker  \n",
      "0     15000.0        \n",
      "1     39650.0        \n",
      "2     12800.0        \n",
      "3      6900.0        \n",
      "4     11000.0        \n",
      "...       ...   ...  \n",
      "1195  18000.0        \n",
      "1196  42700.0        \n",
      "1197  14400.0        \n",
      "1198   9200.0        \n",
      "1199  12500.0        \n",
      "\n",
      "[1200 rows x 8 columns]\n"
     ]
    }
   ],
   "source": [
    "len_col = len(df.columns)\n",
    "df.insert(len_col,\"Maker\",\"\")\n",
    "print(\"Column 'Maker' added as the last index of the column:\\n\\n\",df)"
   ]
  },
  {
   "cell_type": "markdown",
   "id": "12154381",
   "metadata": {},
   "source": [
    "# Perform describe on dataframe"
   ]
  },
  {
   "cell_type": "code",
   "execution_count": 6,
   "id": "26b6b3be",
   "metadata": {},
   "outputs": [
    {
     "name": "stdout",
     "output_type": "stream",
     "text": [
      "              Year                 Date    Dealer ID  Quantity Sold  \\\n",
      "count  1200.000000                 1200  1200.000000     1200.00000   \n",
      "mean   2018.500000  2018-12-16 23:00:00  1281.800000       17.99750   \n",
      "min    2018.000000  2018-01-01 23:00:00  1212.000000        2.00000   \n",
      "25%    2018.000000  2018-06-24 11:00:00  1217.000000       11.00000   \n",
      "50%    2018.500000  2018-12-17 11:00:00  1256.000000       18.00000   \n",
      "75%    2019.000000  2019-06-09 11:00:00  1336.000000       24.00000   \n",
      "max    2019.000000  2019-12-01 23:00:00  1402.000000       48.00000   \n",
      "std       0.500208                  NaN    72.453672        9.97432   \n",
      "\n",
      "             Profit  \n",
      "count   1200.000000  \n",
      "mean   24974.055208  \n",
      "min     4600.000000  \n",
      "25%    13500.000000  \n",
      "50%    18500.000000  \n",
      "75%    28922.812500  \n",
      "max    83875.000000  \n",
      "std    17370.750612  \n"
     ]
    }
   ],
   "source": [
    "print(df.describe())"
   ]
  },
  {
   "cell_type": "markdown",
   "id": "bdc6e57d",
   "metadata": {},
   "source": [
    "# Perform info on dataframe"
   ]
  },
  {
   "cell_type": "code",
   "execution_count": 7,
   "id": "f47a47a8",
   "metadata": {},
   "outputs": [
    {
     "name": "stdout",
     "output_type": "stream",
     "text": [
      "<class 'pandas.core.frame.DataFrame'>\n",
      "RangeIndex: 1200 entries, 0 to 1199\n",
      "Data columns (total 8 columns):\n",
      " #   Column         Non-Null Count  Dtype         \n",
      "---  ------         --------------  -----         \n",
      " 0   Year           1200 non-null   int64         \n",
      " 1   Month          1200 non-null   object        \n",
      " 2   Date           1200 non-null   datetime64[ns]\n",
      " 3   Model          1200 non-null   object        \n",
      " 4   Dealer ID      1200 non-null   int64         \n",
      " 5   Quantity Sold  1200 non-null   int64         \n",
      " 6   Profit         1200 non-null   float64       \n",
      " 7   Maker          1200 non-null   object        \n",
      "dtypes: datetime64[ns](1), float64(1), int64(3), object(3)\n",
      "memory usage: 75.1+ KB\n",
      "None\n"
     ]
    }
   ],
   "source": [
    "print(df.info())"
   ]
  },
  {
   "cell_type": "markdown",
   "id": "3e0455a5",
   "metadata": {},
   "source": [
    "# Export and save this data as `CarSalesByModelStart1.xlsx`"
   ]
  },
  {
   "cell_type": "code",
   "execution_count": 8,
   "id": "3de801fe",
   "metadata": {},
   "outputs": [],
   "source": [
    "df.to_excel(\"CarSalesByModelStart1.xlsx\",index=False)"
   ]
  }
 ],
 "metadata": {
  "kernelspec": {
   "display_name": "Python 3 (ipykernel)",
   "language": "python",
   "name": "python3"
  },
  "language_info": {
   "codemirror_mode": {
    "name": "ipython",
    "version": 3
   },
   "file_extension": ".py",
   "mimetype": "text/x-python",
   "name": "python",
   "nbconvert_exporter": "python",
   "pygments_lexer": "ipython3",
   "version": "3.10.6"
  }
 },
 "nbformat": 4,
 "nbformat_minor": 5
}
